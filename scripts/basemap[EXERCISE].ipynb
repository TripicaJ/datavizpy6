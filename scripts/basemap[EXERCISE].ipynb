{
  "nbformat": 4,
  "nbformat_minor": 0,
  "metadata": {
    "colab": {
      "name": "basemap[EXERCISE].ipynb",
      "provenance": [],
      "collapsed_sections": [
        "fXcxfZbVl3Ru"
      ],
      "toc_visible": true
    },
    "kernelspec": {
      "name": "python3",
      "display_name": "Python 3"
    },
    "language_info": {
      "name": "python"
    }
  },
  "cells": [
    {
      "cell_type": "markdown",
      "metadata": {
        "id": "fXcxfZbVl3Ru"
      },
      "source": [
        "# Basemap\n",
        "\n",
        "In this exercise we'll use [Basemap](https://matplotlib.org/basemap/), a matplotlib module used for plotting maps.\n",
        "\n",
        "NOTE: Basemap module is, in theory, deprecated in favor of [Cartopy](https://scitools.org.uk/cartopy/docs/latest/). However as of today (2021, Oct. 07) cartopy crashes Google Colab. For the sake of better support, we stick to Basemap. Consider that the main concepts are easily adaptable (e.g. you still need to decide what type of projection you want to use).\n",
        "\n",
        "ASSIGNMENT:\n",
        "\n",
        "* plot the recorded meteorite positions from the NASA dataset on a Marcator map, subsetting to a maximum of 500 entries (to speed up the process)\n",
        "* limit the plotted meteorites to a rectangular area of your choice (e.g. all meteorites in Africa). The area is defined by boundaries on maximum and minimum latitude and maximum and minimum longitude\n",
        "* save the map as a png in the `../results` folder\n",
        "* redo the same map on a Mollweide projection\n",
        "\n",
        "For reference you can use [this tutorial](https://medium.com/analytics-vidhya/how-to-plot-data-on-a-world-map-in-python-25cf9733c3dd) or its [related code page](https://github.com/athisha-rk/mediumArticlesRelatedFiles/blob/master/Basemap_Example.ipynb).\n",
        "\n"
      ]
    },
    {
      "cell_type": "markdown",
      "metadata": {
        "id": "630b-pJemela"
      },
      "source": [
        "# Installing the required packages\n",
        "\n",
        "You may need to install the following:"
      ]
    },
    {
      "cell_type": "code",
      "metadata": {
        "id": "cfDMK5my7_sl"
      },
      "source": [
        "!pip install https://github.com/matplotlib/basemap/archive/master.zip\n",
        "!pip install pyproj==1.9.6"
      ],
      "execution_count": null,
      "outputs": []
    },
    {
      "cell_type": "markdown",
      "metadata": {
        "id": "SxC23aB6nh5f"
      },
      "source": [
        "# Importing everything\n",
        "\n",
        "Standard imports plus Basemap."
      ]
    },
    {
      "cell_type": "code",
      "metadata": {
        "id": "ZfQgUoE2Bfwz"
      },
      "source": [
        "import numpy as np\n",
        "import pandas as pd\n",
        "import matplotlib.pyplot as plt\n",
        "from mpl_toolkits.basemap import Basemap"
      ],
      "execution_count": null,
      "outputs": []
    },
    {
      "cell_type": "markdown",
      "metadata": {
        "id": "Uppn0dgNnuaf"
      },
      "source": [
        "# Loading the meteorite data\n",
        "\n",
        "Rembember that we have a dedicated function in `data_manager.py` file."
      ]
    }
  ]
}