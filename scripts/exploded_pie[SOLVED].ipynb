{
 "cells": [
  {
   "cell_type": "markdown",
   "metadata": {},
   "source": [
    "# Exploded Pie\n",
    "\n",
    "In this example we'll do a pie plot with one of the slices exploded, showing it's subcategories on the side"
   ]
  },
  {
   "cell_type": "markdown",
   "metadata": {},
   "source": [
    "## Data loading\n",
    "\n",
    "We'll use the NASA meteorite dataset. To do so we'll need first to run the data manager using the %run magic code."
   ]
  },
  {
   "cell_type": "code",
   "execution_count": 1,
   "metadata": {},
   "outputs": [],
   "source": [
    "%run data_manager.py"
   ]
  },
  {
   "cell_type": "markdown",
   "metadata": {},
   "source": [
    "At this poing we can load the data directly into a pandas dataframe"
   ]
  },
  {
   "cell_type": "code",
   "execution_count": 2,
   "metadata": {},
   "outputs": [
    {
     "data": {
      "text/html": [
       "<div>\n",
       "<style scoped>\n",
       "    .dataframe tbody tr th:only-of-type {\n",
       "        vertical-align: middle;\n",
       "    }\n",
       "\n",
       "    .dataframe tbody tr th {\n",
       "        vertical-align: top;\n",
       "    }\n",
       "\n",
       "    .dataframe thead th {\n",
       "        text-align: right;\n",
       "    }\n",
       "</style>\n",
       "<table border=\"1\" class=\"dataframe\">\n",
       "  <thead>\n",
       "    <tr style=\"text-align: right;\">\n",
       "      <th></th>\n",
       "      <th>name</th>\n",
       "      <th>id</th>\n",
       "      <th>nametype</th>\n",
       "      <th>recclass</th>\n",
       "      <th>mass (g)</th>\n",
       "      <th>fall</th>\n",
       "      <th>year</th>\n",
       "      <th>reclat</th>\n",
       "      <th>reclong</th>\n",
       "      <th>GeoLocation</th>\n",
       "      <th>year_as_date</th>\n",
       "    </tr>\n",
       "  </thead>\n",
       "  <tbody>\n",
       "    <tr>\n",
       "      <th>0</th>\n",
       "      <td>Aachen</td>\n",
       "      <td>1</td>\n",
       "      <td>Valid</td>\n",
       "      <td>L5</td>\n",
       "      <td>21.0</td>\n",
       "      <td>Fallen</td>\n",
       "      <td>01/01/1880 12:00:00 AM</td>\n",
       "      <td>50.77500</td>\n",
       "      <td>6.08333</td>\n",
       "      <td>(50.775, 6.08333)</td>\n",
       "      <td>1880-01-01</td>\n",
       "    </tr>\n",
       "    <tr>\n",
       "      <th>1</th>\n",
       "      <td>Aarhus</td>\n",
       "      <td>2</td>\n",
       "      <td>Valid</td>\n",
       "      <td>H6</td>\n",
       "      <td>720.0</td>\n",
       "      <td>Fallen</td>\n",
       "      <td>01/01/1951 12:00:00 AM</td>\n",
       "      <td>56.18333</td>\n",
       "      <td>10.23333</td>\n",
       "      <td>(56.18333, 10.23333)</td>\n",
       "      <td>1951-01-01</td>\n",
       "    </tr>\n",
       "    <tr>\n",
       "      <th>2</th>\n",
       "      <td>Abee</td>\n",
       "      <td>6</td>\n",
       "      <td>Valid</td>\n",
       "      <td>EH4</td>\n",
       "      <td>107000.0</td>\n",
       "      <td>Fallen</td>\n",
       "      <td>01/01/1952 12:00:00 AM</td>\n",
       "      <td>54.21667</td>\n",
       "      <td>-113.00000</td>\n",
       "      <td>(54.21667, -113.0)</td>\n",
       "      <td>1952-01-01</td>\n",
       "    </tr>\n",
       "    <tr>\n",
       "      <th>3</th>\n",
       "      <td>Acapulco</td>\n",
       "      <td>10</td>\n",
       "      <td>Valid</td>\n",
       "      <td>Acapulcoite</td>\n",
       "      <td>1914.0</td>\n",
       "      <td>Fallen</td>\n",
       "      <td>01/01/1976 12:00:00 AM</td>\n",
       "      <td>16.88333</td>\n",
       "      <td>-99.90000</td>\n",
       "      <td>(16.88333, -99.9)</td>\n",
       "      <td>1976-01-01</td>\n",
       "    </tr>\n",
       "    <tr>\n",
       "      <th>4</th>\n",
       "      <td>Achiras</td>\n",
       "      <td>370</td>\n",
       "      <td>Valid</td>\n",
       "      <td>L6</td>\n",
       "      <td>780.0</td>\n",
       "      <td>Fallen</td>\n",
       "      <td>01/01/1902 12:00:00 AM</td>\n",
       "      <td>-33.16667</td>\n",
       "      <td>-64.95000</td>\n",
       "      <td>(-33.16667, -64.95)</td>\n",
       "      <td>1902-01-01</td>\n",
       "    </tr>\n",
       "  </tbody>\n",
       "</table>\n",
       "</div>"
      ],
      "text/plain": [
       "       name   id nametype     recclass  mass (g)    fall  \\\n",
       "0    Aachen    1    Valid           L5      21.0  Fallen   \n",
       "1    Aarhus    2    Valid           H6     720.0  Fallen   \n",
       "2      Abee    6    Valid          EH4  107000.0  Fallen   \n",
       "3  Acapulco   10    Valid  Acapulcoite    1914.0  Fallen   \n",
       "4   Achiras  370    Valid           L6     780.0  Fallen   \n",
       "\n",
       "                     year    reclat    reclong           GeoLocation  \\\n",
       "0  01/01/1880 12:00:00 AM  50.77500    6.08333     (50.775, 6.08333)   \n",
       "1  01/01/1951 12:00:00 AM  56.18333   10.23333  (56.18333, 10.23333)   \n",
       "2  01/01/1952 12:00:00 AM  54.21667 -113.00000    (54.21667, -113.0)   \n",
       "3  01/01/1976 12:00:00 AM  16.88333  -99.90000     (16.88333, -99.9)   \n",
       "4  01/01/1902 12:00:00 AM -33.16667  -64.95000   (-33.16667, -64.95)   \n",
       "\n",
       "  year_as_date  \n",
       "0   1880-01-01  \n",
       "1   1951-01-01  \n",
       "2   1952-01-01  \n",
       "3   1976-01-01  \n",
       "4   1902-01-01  "
      ]
     },
     "execution_count": 2,
     "metadata": {},
     "output_type": "execute_result"
    }
   ],
   "source": [
    "df = load_meteorites()\n",
    "df.head()"
   ]
  },
  {
   "cell_type": "markdown",
   "metadata": {},
   "source": [
    "## Selecting the plotted data\n",
    "Three columns are good candidates for a pie chart:"
   ]
  },
  {
   "cell_type": "code",
   "execution_count": 3,
   "metadata": {},
   "outputs": [
    {
     "name": "stdout",
     "output_type": "stream",
     "text": [
      "['Valid' 'Relict']\n",
      "['Fallen' 'Found']\n",
      "['L5' 'H6' 'EH4' 'Acapulcoite' 'L6' 'LL3-6' 'H5' 'L' 'Diogenite-pm' 'H4'\n",
      " 'H' 'Iron, IVA' 'CR2-an' 'LL5' 'CI1' 'L/LL4' 'Eucrite-mmict' 'CV3'\n",
      " 'Ureilite-an' 'Stone-uncl' 'L3' 'Angrite' 'LL6' 'L4' 'Aubrite'\n",
      " 'Iron, IIAB' 'Iron, IAB-sLL' 'Iron, ungrouped' 'CM2' 'Mesosiderite-A1'\n",
      " 'LL4' 'C2-ung' 'LL3.8' 'Howardite' 'Eucrite-pmict' 'Diogenite' 'LL3.15'\n",
      " 'LL3.9' 'Iron, IAB-MG' 'H/L3.9' 'Eucrite' 'H4-an' 'L/LL6' 'Iron, IIIAB'\n",
      " 'OC' 'H/L4' 'H4-5' 'L3.7' 'LL3.4' 'Martian (chassignite)' 'EL6' 'H3.8'\n",
      " 'H3-5' 'H5-6' 'Mesosiderite' 'H5-7' 'L3-6' 'H4-6' 'Ureilite' 'Iron, IID'\n",
      " 'Mesosiderite-A3/4' 'CO3.3' 'H3' 'EH3/4-an' 'Iron, IIE' 'L/LL5' 'H3.7'\n",
      " 'CBa' 'H4/5' 'H3/4' 'H?' 'H3-6' 'L3.4' 'Iron, IAB-sHL' 'L3.7-6' 'EH7-an'\n",
      " 'Iron' 'CR2' 'CO3.2' 'K3' 'L5/6' 'CK4' 'Iron, IIE-an' 'L3.6' 'LL3.2'\n",
      " 'CO3.5' 'Lodranite' 'Mesosiderite-A3' 'L3-4' 'H5/6' 'Pallasite, PMG'\n",
      " 'Eucrite-cm' 'Pallasite' 'L5-6' 'CO3.6' 'Martian (nakhlite)' 'LL3.6'\n",
      " 'C3-ung' 'H3-4' 'CO3.4' 'EH3' 'Iron, IAB-ung' 'Winonaite' 'LL'\n",
      " 'Eucrite-br' 'Iron, IIF' 'R3.8-6' 'L4-6' 'EH5' 'LL3.00' 'H3.4'\n",
      " 'Martian (shergottite)' 'Achondrite-ung' 'LL3.3' 'C' 'H/L3.6'\n",
      " 'Iron, IIIAB-an' 'LL7' 'Mesosiderite-B2' 'LL4-6' 'CO3.7' 'L/LL6-an'\n",
      " 'Iron, IAB complex' 'Pallasite, PMG-an' 'H3.9/4' 'L3.8' 'LL5-6' 'LL3.8-6'\n",
      " 'L3.9' 'L4-5' 'L3-5' 'LL4/5' 'L4/5' 'H3.9' 'H3.6-6' 'H3.8-5' 'H3.8/4'\n",
      " 'H3.9-5' 'CH3' 'R3.8-5' 'L3.9/4' 'E4' 'CO3' 'Chondrite-ung' 'H~5' 'H~6'\n",
      " 'L/LL3.10' 'EL5' 'LL3' 'L~6' 'L~3' 'H~4' 'L(LL)3.5-3.7' 'Iron, IIIE-an'\n",
      " 'H3.6' 'L3.4-3.7' 'L3.5' 'CM1/2' 'Martian (OPX)' 'Brachinite' 'LL7(?)'\n",
      " 'LL6(?)' 'Eucrite-Mg rich' 'H3.5-4' 'EL3' 'R3.6' 'H3.5' 'CM1' 'L/LL3'\n",
      " 'H7' 'L(?)3' 'L3.2' 'L3.7-3.9' 'Mesosiderite-B1' 'LL3.7' 'CO3.0' 'LL3.5'\n",
      " 'L3.7-4' 'Eucrite-unbr' 'CV3-an' 'Lunar (anorth)' 'L3.3' 'Iron, IAB-sLM'\n",
      " 'Lunar' 'Iron, IC' 'Iron, IID-an' 'Iron, IIIE' 'Iron, IVA-an' 'CK6'\n",
      " 'L3.1' 'CK5' 'H3.3' 'H3.7-6' 'E6' 'H3.0' 'H3.1' 'L3.0' 'L/LL3.4' 'C6'\n",
      " 'LL3.0' 'Lunar (gabbro)' 'R4' 'C4' 'Iron, IIG' 'Iron, IIC' 'H5-an'\n",
      " 'EH4/5' 'Iron, IIIF' 'R3-6' 'Mesosiderite-B4' 'L6/7' 'L-imp melt' 'CK3'\n",
      " 'H3-an' 'Iron, IVB' 'R3.8' 'L~5' 'Mesosiderite-an' 'Mesosiderite-A2'\n",
      " 'Pallasite, PES' 'C4-ung' 'Iron, IAB?' 'Mesosiderite-A' 'R3.5-6' 'H3.9-6'\n",
      " 'Ureilite-pmict' 'LL~6' 'CK4/5' 'EL4' 'Lunar (feldsp. breccia)' 'L3.9-6'\n",
      " 'H-an' 'L/LL3-6' 'L/LL3-5' 'H/L3.5' 'H/L3' 'R3-4' 'CK3-an' 'LL4-5' 'H/L6'\n",
      " 'L3/4' 'H-imp melt' 'CR' 'Chondrite-fusion crust' 'Iron, IAB-sLH'\n",
      " 'H(L)3-an' 'L(LL)3' 'H(L)3' 'R3' 'L7' 'CM-an' 'L/LL~6' 'L/LL~5' 'L~4'\n",
      " 'L/LL~4' 'LL(L)3' 'H3.2' 'L-melt breccia' 'H6-melt breccia'\n",
      " 'H5-melt breccia' 'H-melt rock' 'Eucrite-an' 'Lunar (bas/anor)' 'LL5/6'\n",
      " 'LL3/4' 'H3.4/3.5' 'Lunar (basalt)' 'H/L5' 'H(5?)' 'LL-imp melt'\n",
      " 'Mesosiderite?' 'H~4/5' 'L6-melt breccia' 'L3.5-3.7' 'Iron, IIAB-an'\n",
      " 'L3.3-3.7' 'L3.2-3.6' 'L3.3-3.6' 'Acapulcoite/Lodranite' 'Mesosiderite-B'\n",
      " 'CK5/6' 'L3.05' 'C2' 'C4/5' 'L/LL3.2' 'Iron, IIIAB?' 'L3.5-5' 'L/LL(?)3'\n",
      " 'H4(?)' 'Iron, IAB-sHH' 'Relict iron' 'EL4/5' 'L5-7' 'Diogenite-an' 'CR1'\n",
      " 'H5 ' 'L5 ' 'H4 ' 'L4 ' 'E' 'L6 ' 'H3 ' 'LL6 ' 'H-metal' 'H6 ' 'L-metal'\n",
      " 'Mesosiderite-A4' 'L/LL5/6' 'H3.8-4' 'CBb' 'EL6/7' 'EL7' 'CH/CBb' 'CO3.8'\n",
      " 'H/L~4' 'Mesosiderite-C2' 'R5' 'H4/6' 'L-melt rock' 'H3.7-5' 'LL3.7-6'\n",
      " 'H3.7/3.8' 'L3.7/3.8' 'EH-imp melt' 'R' 'Aubrite-an' 'R6' 'L3.5-3.9'\n",
      " 'L3.2-3.5' 'L3.3-3.5' 'L3.0-3.7' 'E3-an' 'K' 'E3' 'CK4-an' 'Fusion crust'\n",
      " 'L(LL)3.05' 'L3.10' 'Acapulcoite/lodranite' 'CB' 'LL-melt rock'\n",
      " 'EL-melt rock' 'EH6' 'Pallasite, ungrouped' 'L/LL4/5' 'L3.8-an'\n",
      " 'Iron, IAB-an' 'C5/6-ung' 'CV2' 'Iron, IC-an' 'Lunar (bas. breccia)'\n",
      " 'L3.8-6' 'H3.05' 'H3.10' 'Iron, IAB-sHL-an' 'Achondrite-prim' 'LL3.05'\n",
      " 'CK' 'Diogenite-olivine' 'LL3.8-4' 'C3.0-ung' 'LL-melt breccia'\n",
      " 'LL6-melt breccia' 'L5-melt breccia' 'CO3.1' 'R3-5' 'LL6-an'\n",
      " 'L4-melt breccia' 'Howardite-an' 'H4-melt breccia'\n",
      " 'Martian (basaltic breccia)' 'L3-melt breccia' 'L~4-6' 'LL~5' 'R3.5-4'\n",
      " 'CR7' 'H-melt breccia' 'Lunar (norite)' 'L3.00' 'H3.0-3.4' 'Relict OC'\n",
      " 'L/LL4-6' 'EH7' 'L4-an' 'E-an' 'LL3-5' 'H3.8/3.9' 'L3.9-5' 'H3.8-6'\n",
      " 'H3.4-5' 'L3.0-3.9' 'L3.5-3.8' 'H3.2-3.7' 'L3.6-4' 'L/LL3.6/3.7' 'H/L4-5'\n",
      " 'Enst achon-ung' 'LL~3' 'Pallasite?' 'LL5-7' 'LL3.9/4' 'H3.8-an' 'CR-an'\n",
      " 'L/LL5-6' 'L(LL)5' 'L(LL)6' 'LL3.1-3.5' 'LL3.1' 'E5' 'Lodranite-an'\n",
      " 'H3.2-6' 'EH' 'H(?)4' 'E5-an' 'H3.2-an' 'EH6-an' 'Stone-ung' 'R3.9'\n",
      " 'C1/2-ung' 'L/LL' 'CM' 'Mesosiderite-C']\n"
     ]
    }
   ],
   "source": [
    "print(df.nametype.unique())\n",
    "print(df.fall.unique())\n",
    "print(df.recclass.unique())"
   ]
  },
  {
   "cell_type": "markdown",
   "metadata": {},
   "source": [
    "Given that we'd like to keep things simple, we are going to use `nametype` and `fall`. Let's extract the data."
   ]
  },
  {
   "cell_type": "code",
   "execution_count": 4,
   "metadata": {},
   "outputs": [
    {
     "name": "stdout",
     "output_type": "stream",
     "text": [
      "Valid     0.999449\n",
      "Relict    0.000551\n",
      "Name: nametype, dtype: float64\n"
     ]
    }
   ],
   "source": [
    "#counting nametypes\n",
    "nametypes_counts = df.nametype.value_counts(normalize = True)\n",
    "print(nametypes_counts)"
   ]
  },
  {
   "cell_type": "code",
   "execution_count": 5,
   "metadata": {},
   "outputs": [
    {
     "name": "stdout",
     "output_type": "stream",
     "text": [
      "Found     0.972043\n",
      "Fallen    0.027957\n",
      "Name: fall, dtype: float64\n"
     ]
    }
   ],
   "source": [
    "#counting fall status for \"valid\" asteroids\n",
    "fall_counts_valid = df[df['nametype'] == 'Valid'].fall.value_counts(normalize = True)\n",
    "print(fall_counts_valid)"
   ]
  },
  {
   "cell_type": "markdown",
   "metadata": {},
   "source": [
    "## First implementation, by hand\n",
    "\n",
    "A first implementation, step by step"
   ]
  },
  {
   "cell_type": "code",
   "execution_count": 6,
   "metadata": {},
   "outputs": [],
   "source": [
    "#standard imports\n",
    "import matplotlib.pyplot as plt\n",
    "import numpy as np\n",
    "\n",
    "#setting off interactive mode, so that we can split the code among\n",
    "#several cells, see:\n",
    "#https://matplotlib.org/stable/api/_as_gen/matplotlib.pyplot.ioff.html\n",
    "plt.ioff()\n",
    "\n",
    "# make figure and assign axis objects\n",
    "fig, (ax1, ax2) = plt.subplots(1, 2, figsize=(9, 5))\n",
    "fig.subplots_adjust(wspace=0)"
   ]
  },
  {
   "cell_type": "markdown",
   "metadata": {},
   "source": [
    "### Adding a pie chart"
   ]
  },
  {
   "cell_type": "code",
   "execution_count": 7,
   "metadata": {},
   "outputs": [
    {
     "data": {
      "text/plain": [
       "([<matplotlib.patches.Wedge at 0x7fbef186ff10>,\n",
       "  <matplotlib.patches.Wedge at 0x7fbef18834c0>],\n",
       " [Text(1.399999999999997, -9.301805426282567e-08, 'Valid'),\n",
       "  Text(-1.0999999999999905, 1.4610351288950233e-07, 'Relict')],\n",
       " [Text(0.8999999999999979, -5.979732059753079e-08, '99.9%'),\n",
       "  Text(-0.5999999999999948, 7.96928252124558e-08, '0.1%')])"
      ]
     },
     "execution_count": 7,
     "metadata": {},
     "output_type": "execute_result"
    }
   ],
   "source": [
    "#this magic suppresses output, without it the return value of\n",
    "#the last command is printed. Unfortunately, maybe your jupyter\n",
    "#does not support it. Give it a try!\n",
    "#%%capture\n",
    "\n",
    "# pie chart parameters\n",
    "ratios = nametypes_counts\n",
    "labels = nametypes_counts.index\n",
    "explode = [0.3, 0]\n",
    "\n",
    "# rotate so that first wedge is split by the x-axis\n",
    "angle = -180 * ratios[0]\n",
    "\n",
    "#standard pie plot\n",
    "ax1.pie(ratios, autopct='%1.1f%%', startangle=angle, labels=labels, explode=explode)"
   ]
  },
  {
   "cell_type": "markdown",
   "metadata": {},
   "source": [
    "### Adding a bar chart"
   ]
  },
  {
   "cell_type": "code",
   "execution_count": 8,
   "metadata": {},
   "outputs": [
    {
     "data": {
      "text/plain": [
       "(-0.5, 0.5)"
      ]
     },
     "execution_count": 8,
     "metadata": {},
     "output_type": "execute_result"
    }
   ],
   "source": [
    "# bar chart parameters\n",
    "xpos = 0\n",
    "bottom = 0\n",
    "ratios = fall_counts_valid\n",
    "width = .2\n",
    "\n",
    "#looping through all the available data points\n",
    "for j in range(len(ratios)):\n",
    "    height = ratios[j]\n",
    "    ax2.bar(xpos, height, width, bottom=bottom)\n",
    "    ypos = bottom + ax2.patches[j].get_height() / 2\n",
    "    bottom += height\n",
    "    ax2.text(xpos, ypos, \"%d%%\" % (ax2.patches[j].get_height() * 100), ha='center')\n",
    "\n",
    "#final aestethics brush upss\n",
    "ax2.set_title('Valid entries')\n",
    "ax2.legend(fall_counts_valid.index)\n",
    "ax2.axis('off')\n",
    "ax2.set_xlim(- 2.5 * width, 2.5 * width)"
   ]
  },
  {
   "cell_type": "markdown",
   "metadata": {},
   "source": [
    "### Adding connecting lines\n",
    "\n",
    "We are going to use [ConnectionPatch](https://matplotlib.org/stable/api/_as_gen/matplotlib.patches.ConnectionPatch.html) object to draw lines connecting\n",
    "the pie to the bar plot.\n",
    "\n",
    "Keep in mind that a pie slice is completely defined by four parameters:\n",
    "\n",
    "* center\n",
    "* radius (r)\n",
    "* angle of the first side (theta1)\n",
    "* angle of the second side (theta2)\n",
    "\n",
    "We are going to first extract these numbers, then do some trigonometry to convert\n",
    "those to coordinates:\n",
    "\n",
    "* (x_start, y_start)\n",
    "* (x_end, y_end)\n",
    "\n",
    "for the two connectors."
   ]
  },
  {
   "cell_type": "code",
   "execution_count": 9,
   "metadata": {},
   "outputs": [
    {
     "data": {
      "text/plain": [
       "<matplotlib.patches.ConnectionPatch at 0x7fbef1858fa0>"
      ]
     },
     "execution_count": 9,
     "metadata": {},
     "output_type": "execute_result"
    }
   ],
   "source": [
    "from matplotlib.patches import ConnectionPatch\n",
    "\n",
    "#extracting the pie slice parameters\n",
    "center = ax1.patches[0].center #this is actually two values\n",
    "r      = ax1.patches[0].r\n",
    "theta1 = ax1.patches[0].theta1\n",
    "theta2 = ax1.patches[0].theta2\n",
    "\n",
    "#the bar is easier: it's just defined by its height\n",
    "bar_height = sum([item.get_height() for item in ax2.patches])\n",
    "\n",
    "# top connecting line, coordinates\n",
    "x_start = r * np.cos(np.pi / 180 * theta2) + center[0]\n",
    "y_start = r * np.sin(np.pi / 180 * theta2) + center[1]\n",
    "x_end = -width / 2\n",
    "y_end = bar_height\n",
    "\n",
    "# top connecting line, drawing\n",
    "con = ConnectionPatch(xyA=(x_start, y_start), coordsA=ax1.transData,\n",
    "                      xyB=(x_end, y_end)    , coordsB=ax2.transData)\n",
    "con.set_color([0, 0, 0])\n",
    "con.set_linewidth(2)\n",
    "ax2.add_artist(con)\n",
    "\n",
    "# bottom connecting line, coordinates\n",
    "x_start = r * np.cos(np.pi / 180 * theta1) + center[0]\n",
    "y_start = r * np.sin(np.pi / 180 * theta1) + center[1]\n",
    "x_end = -width / 2\n",
    "y_end = 0\n",
    "\n",
    "# top connecting line, drawing\n",
    "con = ConnectionPatch(xyA=(x_start, y_start), coordsA=ax1.transData,\n",
    "                      xyB=(x_end, y_end)    , coordsB=ax2.transData)\n",
    "con.set_color([0, 0, 0])\n",
    "con.set_linewidth(2)\n",
    "ax2.add_artist(con)"
   ]
  },
  {
   "cell_type": "markdown",
   "metadata": {},
   "source": [
    "### Plotting the result\n",
    "\n",
    "Let's turn the interactive mode back on and plot the result."
   ]
  },
  {
   "cell_type": "code",
   "execution_count": 10,
   "metadata": {},
   "outputs": [
    {
     "data": {
      "image/png": "[encoded data removed]",
      "text/plain": [
       "<Figure size 648x360 with 2 Axes>"
      ]
     },
     "metadata": {
      "needs_background": "light"
     },
     "output_type": "display_data"
    }
   ],
   "source": [
    "plt.ion()\n",
    "plt.show()"
   ]
  },
  {
   "cell_type": "markdown",
   "metadata": {},
   "source": [
    "# Assignments\n",
    "\n",
    "The plot works, but with a very thin slice it's power is somewhat limited. Also, it would be nice to have reusable solution.\n",
    "\n",
    "* ASSIGNMENT 1: write a function that accepts the two counts arguments and does the plot\n",
    "* ASSIGNMENT 2: add a third argument to save on file (in folder \"../results\") instead of displaying the plot\n",
    "* ASSIGNMENT 3: create a new column in the data that assigns meteorites to four categories based on their weight, and use it in the plot"
   ]
  },
  {
   "cell_type": "markdown",
   "metadata": {},
   "source": [
    "## ASSIGNMENT 1,2: A function for exploded pie charts"
   ]
  },
  {
   "cell_type": "code",
   "execution_count": 11,
   "metadata": {},
   "outputs": [],
   "source": [
    "def exploded_pie(data, pie_column, selected_wedge, bar_column, outfile = None):\n",
    "    \"\"\"Creates an exploded pie chart, with details on one of the wedges\n",
    "\n",
    "    The input data are used for the selected column to populate\n",
    "    a standard pie chart, when the wedge corresponding to the selected\n",
    "    value is exploded and detailed in a bar chart for the content of the\n",
    "    selected column\n",
    "    Parameters\n",
    "    ----------\n",
    "    data : pandas dataFrame\n",
    "    the data to be used\n",
    "    \n",
    "    pie_column : str\n",
    "    the name of the column to be used to populate the pie chart\n",
    "    \n",
    "    selected_wedge : any value\n",
    "    the value used to select the wedge to be exploded. Must be present\n",
    "    in data[pie_column]\n",
    "    \n",
    "    bar_column : str\n",
    "    the name of the column to be used to populate the column chart, after\n",
    "    subsetting for selected_wedge\n",
    "    \n",
    "    outfile : str, optional\n",
    "    name for the output image file\n",
    "    \"\"\"\n",
    "    \n",
    "    #extracting counts as ratios\n",
    "    pie_counts = data[pie_column].value_counts(normalize = True)\n",
    "    bar_counts = data[data[pie_column] == selected_wedge].loc[:, bar_column].value_counts(normalize = True)\n",
    "    \n",
    "    # make figure and assign axis objects\n",
    "    fig, (ax1, ax2) = plt.subplots(1, 2, figsize=(9, 5))\n",
    "    fig.subplots_adjust(wspace=0)\n",
    "    \n",
    "    #------ PIE ------\n",
    "    # pie chart parameters\n",
    "    ratios = pie_counts\n",
    "    labels = pie_counts.index\n",
    "    \n",
    "    #the \"explode\" parameter selects the slice we want to highlight\n",
    "    explode = [0] * len(ratios)\n",
    "    i = np.argwhere(ratios.index == selected_wedge)[0][0]\n",
    "    explode[i] = 0.1\n",
    "\n",
    "    #we need to rotate counterclockwise for all slices BEFORE the \n",
    "    #one we are exploding, plus half of the target slice, \n",
    "    #so that it's bisected by the x axis\n",
    "    angle =  -360 * (np.sum(ratios[0:(i+1)]) - 0.5 * ratios[i])\n",
    "\n",
    "    #standard pie plot\n",
    "    ax1.pie(ratios, autopct='%1.1f%%', startangle=angle, labels=labels, explode=explode)\n",
    "    \n",
    "    #------ BAR ------\n",
    "    # bar chart parameters\n",
    "    xpos = 0\n",
    "    bottom = 0\n",
    "    ratios = bar_counts\n",
    "    width = .2\n",
    "\n",
    "    #looping through all the available data points\n",
    "    for j in range(len(ratios)):\n",
    "        height = ratios[j]\n",
    "        ax2.bar(xpos, height, width, bottom=bottom)\n",
    "        ypos = bottom + ax2.patches[j].get_height() / 2\n",
    "        bottom += height\n",
    "        ax2.text(xpos, ypos, \"%d%%\" % (ax2.patches[j].get_height() * 100), ha='center')\n",
    "\n",
    "    #final aestethics brush upss\n",
    "    ax2.set_title(pie_column + ' = ' + selected_wedge)\n",
    "    ax2.legend(fall_counts_valid.index)\n",
    "    ax2.axis('off')\n",
    "    ax2.set_xlim(- 2.5 * width, 2.5 * width)\n",
    "    \n",
    "    #------ CONNECTORS ------\n",
    "\n",
    "    #extracting the pie slice parameters\n",
    "    center = ax1.patches[i].center #this is actually two values\n",
    "    r      = ax1.patches[i].r\n",
    "    theta1 = ax1.patches[i].theta1\n",
    "    theta2 = ax1.patches[i].theta2\n",
    "\n",
    "    #the bar is easier: it's just defined by its height\n",
    "    bar_height = sum([item.get_height() for item in ax2.patches])\n",
    "\n",
    "    # top connecting line, coordinates\n",
    "    x_start = r * np.cos(np.pi / 180 * theta2) + center[0]\n",
    "    y_start = r * np.sin(np.pi / 180 * theta2) + center[1]\n",
    "    x_end = -width / 2\n",
    "    y_end = bar_height\n",
    "\n",
    "    # top connecting line, drawing\n",
    "    con = ConnectionPatch(xyA=(x_start, y_start), coordsA=ax1.transData,\n",
    "                          xyB=(x_end, y_end)    , coordsB=ax2.transData)\n",
    "    con.set_color([0, 0, 0])\n",
    "    con.set_linewidth(2)\n",
    "    ax2.add_artist(con)\n",
    "\n",
    "    # bottom connecting line, coordinates\n",
    "    x_start = r * np.cos(np.pi / 180 * theta1) + center[0]\n",
    "    y_start = r * np.sin(np.pi / 180 * theta1) + center[1]\n",
    "    x_end = -width / 2\n",
    "    y_end = 0\n",
    "\n",
    "    # top connecting line, drawing\n",
    "    con = ConnectionPatch(xyA=(x_start, y_start), coordsA=ax1.transData,\n",
    "                          xyB=(x_end, y_end)    , coordsB=ax2.transData)\n",
    "    con.set_color([0, 0, 0])\n",
    "    con.set_linewidth(2)\n",
    "    ax2.add_artist(con)\n",
    "    \n",
    "    #------ OUTPUT ------\n",
    "    \n",
    "    #should we save?\n",
    "    if (outfile is not None):\n",
    "        plt.savefig(outfile)\n",
    "    \n",
    "    plt.show()"
   ]
  },
  {
   "cell_type": "markdown",
   "metadata": {},
   "source": [
    "Let's try the function on our old data, reproducing the example we already know."
   ]
  },
  {
   "cell_type": "code",
   "execution_count": 12,
   "metadata": {},
   "outputs": [
    {
     "data": {
      "image/png": "[encoded data removed]",
      "text/plain": [
       "<Figure size 648x360 with 2 Axes>"
      ]
     },
     "metadata": {
      "needs_background": "light"
     },
     "output_type": "display_data"
    }
   ],
   "source": [
    "exploded_pie(data = df, pie_column = 'nametype', selected_wedge = 'Valid', bar_column = 'fall', outfile = '../results/mypie.png')"
   ]
  },
  {
   "cell_type": "markdown",
   "metadata": {},
   "source": [
    "## ASSIGNMENT 3: better data to test our plots\n",
    "\n",
    "We need to split the mass of asteroids in four classes. Let's take a look at how it is distributed."
   ]
  },
  {
   "cell_type": "code",
   "execution_count": 13,
   "metadata": {},
   "outputs": [
    {
     "data": {
      "text/plain": [
       "(array([3.8099e+04, 4.0000e+00, 2.0000e+00, 2.0000e+00, 4.0000e+00,\n",
       "        1.0000e+00, 0.0000e+00, 0.0000e+00, 1.0000e+00, 2.0000e+00]),\n",
       " array([       0.,  6000000., 12000000., 18000000., 24000000., 30000000.,\n",
       "        36000000., 42000000., 48000000., 54000000., 60000000.]),\n",
       " <a list of 10 Patch objects>)"
      ]
     },
     "execution_count": 13,
     "metadata": {},
     "output_type": "execute_result"
    },
    {
     "data": {
      "image/png": "[encoded data removed]",
      "text/plain": [
       "<Figure size 432x288 with 1 Axes>"
      ]
     },
     "metadata": {
      "needs_background": "light"
     },
     "output_type": "display_data"
    }
   ],
   "source": [
    "#a naive step in data exploration...\n",
    "plt.hist(df['mass (g)'])"
   ]
  },
  {
   "cell_type": "markdown",
   "metadata": {},
   "source": [
    "... not very informative. Let's try to get some hard numbers, finding the quantile limits for 20%, 50% and 80% of our distribution:"
   ]
  },
  {
   "cell_type": "code",
   "execution_count": 14,
   "metadata": {},
   "outputs": [
    {
     "data": {
      "text/plain": [
       "0.2      4.70\n",
       "0.5     29.09\n",
       "0.8    299.00\n",
       "Name: mass (g), dtype: float64"
      ]
     },
     "execution_count": 14,
     "metadata": {},
     "output_type": "execute_result"
    }
   ],
   "source": [
    "df['mass (g)'].quantile([0.20,0.5,0.80])"
   ]
  },
  {
   "cell_type": "markdown",
   "metadata": {},
   "source": [
    "At this point we can create the actual labels."
   ]
  },
  {
   "cell_type": "code",
   "execution_count": 15,
   "metadata": {},
   "outputs": [],
   "source": [
    "df['mass_classes'] = 'very light'\n",
    "df.loc[df['mass (g)'] > 4.70, 'mass_classes'] = 'light'\n",
    "df.loc[df['mass (g)'] > 29.09, 'mass_classes'] = 'heavy'\n",
    "df.loc[df['mass (g)'] > 299, 'mass_classes'] = 'very heavy'"
   ]
  },
  {
   "cell_type": "markdown",
   "metadata": {},
   "source": [
    "And test the plot."
   ]
  },
  {
   "cell_type": "code",
   "execution_count": 16,
   "metadata": {},
   "outputs": [
    {
     "data": {
      "image/png": "[encoded data removed]",
      "text/plain": [
       "<Figure size 648x360 with 2 Axes>"
      ]
     },
     "metadata": {
      "needs_background": "light"
     },
     "output_type": "display_data"
    }
   ],
   "source": [
    "exploded_pie(data = df, pie_column = 'mass_classes', selected_wedge = 'light', bar_column = 'fall')"
   ]
  }
 ],
 "metadata": {
  "kernelspec": {
   "display_name": "Python 3",
   "language": "python",
   "name": "python3"
  },
  "language_info": {
   "codemirror_mode": {
    "name": "ipython",
    "version": 3
   },
   "file_extension": ".py",
   "mimetype": "text/x-python",
   "name": "python",
   "nbconvert_exporter": "python",
   "pygments_lexer": "ipython3",
   "version": "3.8.10"
  }
 },
 "nbformat": 4,
 "nbformat_minor": 4
}
