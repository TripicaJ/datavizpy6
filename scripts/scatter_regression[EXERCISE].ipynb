{
  "nbformat": 4,
  "nbformat_minor": 0,
  "metadata": {
    "colab": {
      "name": "scatter_regression[EXERCISE].ipynb",
      "provenance": [],
      "collapsed_sections": [],
      "toc_visible": true
    },
    "kernelspec": {
      "name": "python3",
      "display_name": "Python 3"
    },
    "language_info": {
      "name": "python"
    }
  },
  "cells": [
    {
      "cell_type": "markdown",
      "metadata": {
        "id": "SzPkPII85Zrm"
      },
      "source": [
        "# Scatter plot with regression\n",
        "\n",
        "This exercise applies to the NASA meteorite dataset the example of scatter plot with regression chart [presented in the Python graph gallery](https://www.python-graph-gallery.com/scatterplot-with-regression-fit-in-matplotlib), which you can consult for guidance.\n",
        "\n",
        "ASSIGNMENTS\n",
        "\n",
        "* using the NASA meteorite data, do a scatter plot of year (on the X axis) vs. average mass of the found meteorites (on the Y axis)\n",
        "  * remember that we have a function dedicated to data loading in the `data_manager.py` script\n",
        "* given the nature of the dataset, perform some simple data exploration and remove outliers entries so that the plot makes sense\n",
        "* finally, add a linear regression line\n",
        "* bonus data inference question: is it true that with the progress of technology we are finding smaller meteorites?"
      ]
    }
  ]
}