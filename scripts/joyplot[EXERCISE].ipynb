{
 "cells": [
  {
   "cell_type": "markdown",
   "metadata": {},
   "source": [
    "# Joy plot (aka ridge line plot)\n",
    "\n",
    "In this example we'll create a joy plot, which takes its name from a [famous album cover](https://i.ytimg.com/vi/V3Ioohi9aqE/maxresdefault.jpg).\n",
    "\n",
    "This kind of plot summarizes the distribution of a numeric variable for several groups. Each group is represented as a density chart, each density chart overlapping each other to use space more efficiently."
   ]
  },
  {
   "cell_type": "markdown",
   "metadata": {},
   "source": [
    "# Assignment\n",
    "\n",
    "Create a ridge line plot with the number of meteorites for three periods: 1800-1850, 1850-1900, 1900-1950.\n",
    "\n",
    "Hints:\n",
    "\n",
    "* you can follow the example from [python-graph-gallery tutorial](https://www.python-graph-gallery.com/ridgeline-graph-plotly)\n",
    "* you are expected to use plotly library, if it's not installed you can always do `!pip install plotly`\n",
    "* remember that we have a function to load data in the `data_manager.py` file"
   ]
  },
  {
   "cell_type": "markdown",
   "metadata": {},
   "source": [
    "## Data loading\n",
    "\n",
    "We'll use the NASA meteorite dataset. To do so we'll need first to run the data manager using the %run magic code."
   ]
  },
  {
   "cell_type": "code",
   "execution_count": 28,
   "metadata": {},
   "outputs": [],
   "source": [
    "%run data_manager.py"
   ]
  },
  {
   "cell_type": "markdown",
   "metadata": {},
   "source": [
    "At this point we can load the data directly into a pandas dataframe."
   ]
  },
  {
   "cell_type": "code",
   "execution_count": 29,
   "metadata": {},
   "outputs": [
    {
     "data": {
      "text/html": [
       "<div>\n",
       "<style scoped>\n",
       "    .dataframe tbody tr th:only-of-type {\n",
       "        vertical-align: middle;\n",
       "    }\n",
       "\n",
       "    .dataframe tbody tr th {\n",
       "        vertical-align: top;\n",
       "    }\n",
       "\n",
       "    .dataframe thead th {\n",
       "        text-align: right;\n",
       "    }\n",
       "</style>\n",
       "<table border=\"1\" class=\"dataframe\">\n",
       "  <thead>\n",
       "    <tr style=\"text-align: right;\">\n",
       "      <th></th>\n",
       "      <th>name</th>\n",
       "      <th>id</th>\n",
       "      <th>nametype</th>\n",
       "      <th>recclass</th>\n",
       "      <th>mass (g)</th>\n",
       "      <th>fall</th>\n",
       "      <th>year</th>\n",
       "      <th>reclat</th>\n",
       "      <th>reclong</th>\n",
       "      <th>GeoLocation</th>\n",
       "      <th>year_as_date</th>\n",
       "    </tr>\n",
       "  </thead>\n",
       "  <tbody>\n",
       "    <tr>\n",
       "      <th>0</th>\n",
       "      <td>Aachen</td>\n",
       "      <td>1</td>\n",
       "      <td>Valid</td>\n",
       "      <td>L5</td>\n",
       "      <td>21.0</td>\n",
       "      <td>Fallen</td>\n",
       "      <td>01/01/1880 12:00:00 AM</td>\n",
       "      <td>50.77500</td>\n",
       "      <td>6.08333</td>\n",
       "      <td>(50.775, 6.08333)</td>\n",
       "      <td>1880-01-01</td>\n",
       "    </tr>\n",
       "    <tr>\n",
       "      <th>1</th>\n",
       "      <td>Aarhus</td>\n",
       "      <td>2</td>\n",
       "      <td>Valid</td>\n",
       "      <td>H6</td>\n",
       "      <td>720.0</td>\n",
       "      <td>Fallen</td>\n",
       "      <td>01/01/1951 12:00:00 AM</td>\n",
       "      <td>56.18333</td>\n",
       "      <td>10.23333</td>\n",
       "      <td>(56.18333, 10.23333)</td>\n",
       "      <td>1951-01-01</td>\n",
       "    </tr>\n",
       "    <tr>\n",
       "      <th>2</th>\n",
       "      <td>Abee</td>\n",
       "      <td>6</td>\n",
       "      <td>Valid</td>\n",
       "      <td>EH4</td>\n",
       "      <td>107000.0</td>\n",
       "      <td>Fallen</td>\n",
       "      <td>01/01/1952 12:00:00 AM</td>\n",
       "      <td>54.21667</td>\n",
       "      <td>-113.00000</td>\n",
       "      <td>(54.21667, -113.0)</td>\n",
       "      <td>1952-01-01</td>\n",
       "    </tr>\n",
       "    <tr>\n",
       "      <th>3</th>\n",
       "      <td>Acapulco</td>\n",
       "      <td>10</td>\n",
       "      <td>Valid</td>\n",
       "      <td>Acapulcoite</td>\n",
       "      <td>1914.0</td>\n",
       "      <td>Fallen</td>\n",
       "      <td>01/01/1976 12:00:00 AM</td>\n",
       "      <td>16.88333</td>\n",
       "      <td>-99.90000</td>\n",
       "      <td>(16.88333, -99.9)</td>\n",
       "      <td>1976-01-01</td>\n",
       "    </tr>\n",
       "    <tr>\n",
       "      <th>4</th>\n",
       "      <td>Achiras</td>\n",
       "      <td>370</td>\n",
       "      <td>Valid</td>\n",
       "      <td>L6</td>\n",
       "      <td>780.0</td>\n",
       "      <td>Fallen</td>\n",
       "      <td>01/01/1902 12:00:00 AM</td>\n",
       "      <td>-33.16667</td>\n",
       "      <td>-64.95000</td>\n",
       "      <td>(-33.16667, -64.95)</td>\n",
       "      <td>1902-01-01</td>\n",
       "    </tr>\n",
       "  </tbody>\n",
       "</table>\n",
       "</div>"
      ],
      "text/plain": [
       "       name   id nametype     recclass  mass (g)    fall  \\\n",
       "0    Aachen    1    Valid           L5      21.0  Fallen   \n",
       "1    Aarhus    2    Valid           H6     720.0  Fallen   \n",
       "2      Abee    6    Valid          EH4  107000.0  Fallen   \n",
       "3  Acapulco   10    Valid  Acapulcoite    1914.0  Fallen   \n",
       "4   Achiras  370    Valid           L6     780.0  Fallen   \n",
       "\n",
       "                     year    reclat    reclong           GeoLocation  \\\n",
       "0  01/01/1880 12:00:00 AM  50.77500    6.08333     (50.775, 6.08333)   \n",
       "1  01/01/1951 12:00:00 AM  56.18333   10.23333  (56.18333, 10.23333)   \n",
       "2  01/01/1952 12:00:00 AM  54.21667 -113.00000    (54.21667, -113.0)   \n",
       "3  01/01/1976 12:00:00 AM  16.88333  -99.90000     (16.88333, -99.9)   \n",
       "4  01/01/1902 12:00:00 AM -33.16667  -64.95000   (-33.16667, -64.95)   \n",
       "\n",
       "  year_as_date  \n",
       "0   1880-01-01  \n",
       "1   1951-01-01  \n",
       "2   1952-01-01  \n",
       "3   1976-01-01  \n",
       "4   1902-01-01  "
      ]
     },
     "execution_count": 29,
     "metadata": {},
     "output_type": "execute_result"
    }
   ],
   "source": [
    "df = load_meteorites()\n",
    "df.head()"
   ]
  },
  {
   "cell_type": "markdown",
   "metadata": {},
   "source": [
    "The `year_as_date` column contains the data as DateTime entries. However we'd prefer to use the year as numeric values, so that it's easy to manipulate and do statistics. "
   ]
  },
  {
   "cell_type": "code",
   "execution_count": 30,
   "metadata": {},
   "outputs": [
    {
     "name": "stdout",
     "output_type": "stream",
     "text": [
      "count    38101.000000\n",
      "mean      1990.161413\n",
      "std         23.615956\n",
      "min       1688.000000\n",
      "25%       1986.000000\n",
      "50%       1996.000000\n",
      "75%       2002.000000\n",
      "max       2101.000000\n",
      "Name: year_numeric, dtype: float64\n",
      "Total number of entries: 38115\n"
     ]
    }
   ],
   "source": [
    "#standard imports\n",
    "import matplotlib.pyplot as plt\n",
    "import numpy as np\n",
    "import pandas as pd #this is already imported by data_manager.py\n",
    "\n",
    "#extracting the year as a number\n",
    "df['year_numeric'] = df['year_as_date'].dt.year\n",
    "\n",
    "#a description of the year, as a number\n",
    "print(df['year_numeric'].describe())\n",
    "\n",
    "#the total number of meteorites\n",
    "print('Total number of entries: ' + str(df.shape[0]))"
   ]
  },
  {
   "cell_type": "markdown",
   "metadata": {},
   "source": [
    "It appears that we have a number of meteorites without an assigned year. We go for the easiest route and remove them."
   ]
  },
  {
   "cell_type": "code",
   "execution_count": 31,
   "metadata": {},
   "outputs": [
    {
     "name": "stdout",
     "output_type": "stream",
     "text": [
      "Entries after dropping NAs : 38101\n"
     ]
    }
   ],
   "source": [
    "df = df.dropna()          \n",
    "print('Entries after dropping NAs : ' + str(df.shape[0]))"
   ]
  },
  {
   "cell_type": "markdown",
   "metadata": {},
   "source": [
    "At this point we can start to take a look at the distribution of the data we are going to plot. A simple histogram it's always a good starting point."
   ]
  },
  {
   "cell_type": "code",
   "execution_count": 32,
   "metadata": {},
   "outputs": [
    {
     "data": {
      "text/plain": [
       "(array([5.0000e+00, 9.0000e+00, 4.8000e+01, 1.5400e+02, 4.1400e+02,\n",
       "        6.4100e+02, 2.5780e+03, 3.4251e+04, 0.0000e+00, 1.0000e+00]),\n",
       " array([1688. , 1729.3, 1770.6, 1811.9, 1853.2, 1894.5, 1935.8, 1977.1,\n",
       "        2018.4, 2059.7, 2101. ]),\n",
       " <a list of 10 Patch objects>)"
      ]
     },
     "execution_count": 32,
     "metadata": {},
     "output_type": "execute_result"
    },
    {
     "data": {
      "image/png": "[encoded data removed]",
      "text/plain": [
       "<Figure size 432x288 with 1 Axes>"
      ]
     },
     "metadata": {
      "needs_background": "light"
     },
     "output_type": "display_data"
    }
   ],
   "source": [
    "plt.hist(df.year_numeric)"
   ]
  },
  {
   "cell_type": "markdown",
   "metadata": {},
   "source": [
    "The data are highly skewed. In fact the vast majority of meteorites has been observerd during the second half of the twentieth century. Luckily the excercise asks us to plot earlier periods, from 1800 to 1950, otherwise the plot would result *VERY* unbalanced."
   ]
  },
  {
   "cell_type": "markdown",
   "metadata": {},
   "source": [
    "## The joyplot"
   ]
  },
  {
   "cell_type": "markdown",
   "metadata": {},
   "source": [
    "We are following the solution proposed in the [python-graph-gallery tutorial](https://www.python-graph-gallery.com/ridgeline-graph-plotly). The general idea is that for each line we need to add:\n",
    "\n",
    "* add a white trace, which will serve as a baseline for the ridge area\n",
    "* a trace of scatter points, with the colored area\n",
    "* optionally, an annotation that tells which period we are plotting\n",
    "\n",
    "To separate the three lines we need to:\n",
    "\n",
    "* adjust the x values, so that they are all in the 0-50 range\n",
    "* add a growing offset so that the second line will be a bit above the first one, and so on...\n",
    "\n",
    "You are going to use a few plotly functions:\n",
    "\n",
    "* [fig.add_trace()](https://plotly.com/python/creating-and-updating-figures/#adding-traces), a method invoked on the figure instance obtained via `go.Figure()`\n",
    "* [go.scatter()](https://plotly.com/python/reference/scatter/#scatter)\n",
    "\n",
    "Keep in mind that your jupiter lab may not be able to render plotly results on the fly. Two solutions:\n",
    "\n",
    "1. use plotly to create an html, which you then embed as an iframe (this is the more general approach, adopted in the solution)\n",
    "2. you may want to install a [jupyter extension](https://stackoverflow.com/questions/52771328/plotly-chart-not-showing-in-jupyter-notebook), so that you can use `fig.show()`. Some tweaking may be required, but the base command is: `jupyter labextension install jupyterlab-plotly`"
   ]
  },
  {
   "cell_type": "code",
   "execution_count": 33,
   "metadata": {},
   "outputs": [
    {
     "name": "stdout",
     "output_type": "stream",
     "text": [
      "Requirement already satisfied: plotly in /home/nelson/virtualenvs/deep_learning/lib/python3.8/site-packages (5.3.1)\n",
      "Requirement already satisfied: six in /home/nelson/virtualenvs/deep_learning/lib/python3.8/site-packages (from plotly) (1.15.0)\n",
      "Requirement already satisfied: tenacity>=6.2.0 in /home/nelson/virtualenvs/deep_learning/lib/python3.8/site-packages (from plotly) (8.0.1)\n"
     ]
    }
   ],
   "source": [
    "#do we need to install plotly?\n",
    "!pip install plotly\n",
    "import plotly.graph_objects as go"
   ]
  },
  {
   "cell_type": "code",
   "execution_count": 146,
   "metadata": {},
   "outputs": [],
   "source": [
    "fig = go.Figure()\n",
    "\n",
    "#offset between lines\n",
    "offset = 20\n",
    "\n",
    "#first line\n",
    "baseline = 1900\n",
    "true_offset = offset * 1\n",
    "label = str(baseline) + '-' + str(baseline + 50)\n",
    "sel = np.array(counts.index > baseline) & np.array(counts.index <= baseline + 50)\n",
    "counts_current = counts[sel]\n",
    "\n",
    "fig.add_trace(go.Scatter(\n",
    "        x=[-5, 55],\n",
    "        y=np.full(2, true_offset),\n",
    "        mode='lines',\n",
    "        line_color='white'))\n",
    "\n",
    "fig.add_trace(go.Scatter(\n",
    "        x=counts_current.index - baseline,\n",
    "        y=counts_current + true_offset,\n",
    "        fill='tonexty',\n",
    "        name=label))\n",
    "\n",
    "fig.add_annotation(\n",
    "        x=-5,\n",
    "        y=true_offset,\n",
    "        text=label,\n",
    "        showarrow=False,\n",
    "        yshift=10)\n",
    "\n",
    "#second line\n",
    "baseline = 1850\n",
    "true_offset = offset * 2\n",
    "label = str(baseline) + '-' + str(baseline + 50)\n",
    "sel = np.array(counts.index > baseline) & np.array(counts.index <= baseline + 50)\n",
    "counts_current = counts[sel]\n",
    "\n",
    "fig.add_trace(go.Scatter(\n",
    "        x=[-5, 55],\n",
    "        y=np.full(2, true_offset),\n",
    "        mode='lines',\n",
    "        line_color='white'))\n",
    "\n",
    "fig.add_trace(go.Scatter(\n",
    "        x=counts_current.index - baseline,\n",
    "        y=counts_current + true_offset,\n",
    "        fill='tonexty',\n",
    "        name=label))\n",
    "\n",
    "fig.add_annotation(\n",
    "        x=-5,\n",
    "        y=true_offset,\n",
    "        text=label,\n",
    "        showarrow=False,\n",
    "        yshift=10)\n",
    "\n",
    "#third line\n",
    "baseline = 1800\n",
    "true_offset = offset * 3\n",
    "label = str(baseline) + '-' + str(baseline + 50)\n",
    "sel = np.array(counts.index > baseline) & np.array(counts.index <= baseline + 50)\n",
    "counts_current = counts[sel]\n",
    "\n",
    "fig.add_trace(go.Scatter(\n",
    "        x=[-5, 55],\n",
    "        y=np.full(2, true_offset),\n",
    "        mode='lines',\n",
    "        line_color='white'))\n",
    "\n",
    "fig.add_trace(go.Scatter(\n",
    "        x=counts_current.index - baseline,\n",
    "        y=counts_current + true_offset,\n",
    "        fill='tonexty',\n",
    "        name=label))\n",
    "\n",
    "fig.add_annotation(\n",
    "        x=-5,\n",
    "        y=true_offset,\n",
    "        text=label,\n",
    "        showarrow=False,\n",
    "        yshift=10)\n",
    "\n",
    "# here you can modify the figure and the legend titles\n",
    "fig.update_layout(\n",
    "                title='Number of meteorites per year',\n",
    "                showlegend=False,\n",
    "                xaxis=dict(title='Year'),\n",
    "                yaxis=dict(showticklabels=False) # that way you hide the y axis ticks labels\n",
    "                )\n",
    "\n",
    "\n",
    "# If you need to save this file as a standalong html file:\n",
    "fig.write_html(\"../results/ridgeline-graph-plotly.html\")"
   ]
  },
  {
   "cell_type": "code",
   "execution_count": 142,
   "metadata": {},
   "outputs": [
    {
     "data": {
      "text/html": [
       "<iframe src=\"../results/ridgeline-graph-plotly.html\" width=\"800\" height=\"600\" title=\"ridgeline chart with plotly\" style=\"border:none\"></iframe>\n"
      ],
      "text/plain": [
       "<IPython.core.display.HTML object>"
      ]
     },
     "metadata": {},
     "output_type": "display_data"
    }
   ],
   "source": [
    "%%html\n",
    "<iframe src=\"../results/ridgeline-graph-plotly.html\" width=\"800\" height=\"600\" title=\"ridgeline chart with plotly\" style=\"border:none\"></iframe>"
   ]
  },
  {
   "cell_type": "code",
   "execution_count": 145,
   "metadata": {},
   "outputs": [
    {
     "name": "stdout",
     "output_type": "stream",
     "text": [
      "An error occured.\n",
      "ValueError: Please install Node.js and npm before continuing installation. You may be able to install Node.js from your package manager, from conda, or directly from the Node.js website (https://nodejs.org).\n",
      "See the log file for details:  /tmp/jupyterlab-debug-27foeset.log\n"
     ]
    }
   ],
   "source": []
  },
  {
   "cell_type": "code",
   "execution_count": null,
   "metadata": {},
   "outputs": [],
   "source": []
  }
 ],
 "metadata": {
  "kernelspec": {
   "display_name": "Python 3",
   "language": "python",
   "name": "python3"
  },
  "language_info": {
   "codemirror_mode": {
    "name": "ipython",
    "version": 3
   },
   "file_extension": ".py",
   "mimetype": "text/x-python",
   "name": "python",
   "nbconvert_exporter": "python",
   "pygments_lexer": "ipython3",
   "version": "3.8.10"
  }
 },
 "nbformat": 4,
 "nbformat_minor": 4
}
