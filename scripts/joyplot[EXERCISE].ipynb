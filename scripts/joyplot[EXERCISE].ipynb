{
 "cells": [
  {
   "cell_type": "markdown",
   "metadata": {},
   "source": [
    "# Joy plot (aka ridge line plot)\n",
    "\n",
    "In this example we'll create a joy plot, which takes its name from a [famous album cover](https://i.ytimg.com/vi/V3Ioohi9aqE/maxresdefault.jpg).\n",
    "\n",
    "This kind of plot summarizes the distribution of a numeric variable for several groups. Each group is represented as a density chart, each density chart overlapping each other to use space more efficiently."
   ]
  },
  {
   "cell_type": "markdown",
   "metadata": {},
   "source": [
    "# Assignment\n",
    "\n",
    "Create a ridge line plot for three time periods: 1800-1850, 1850-1900, 1900-1950. On the x axis you should put the year, on the y axis the number of meteorites for that year.\n",
    "\n",
    "Hints:\n",
    "\n",
    "* you can follow the example from [python-graph-gallery tutorial](https://www.python-graph-gallery.com/ridgeline-graph-plotly)\n",
    "* you are expected to use plotly library, if it's not installed you can always do `!pip install plotly`\n",
    "* remember that we have a function to load data in the `data_manager.py` file"
   ]
  },
  {
   "cell_type": "markdown",
   "metadata": {},
   "source": [
    "## Data loading\n",
    "\n",
    "We'll use the NASA meteorite dataset. To do so we'll need first to run the data manager using the %run magic code."
   ]
  },
  {
   "cell_type": "code",
   "execution_count": null,
   "metadata": {},
   "outputs": [],
   "source": [
    "%run data_manager.py\n",
    "df = load_meteorites()\n",
    "df.head()"
   ]
  },
  {
   "cell_type": "markdown",
   "metadata": {},
   "source": [
    "The `year_as_date` column contains the data as DateTime entries. However we'd prefer to use the year as num "
   ]
  },
  {
   "cell_type": "code",
   "execution_count": null,
   "metadata": {},
   "outputs": [],
   "source": [
    "#standard imports\n",
    "import matplotlib.pyplot as plt\n",
    "import numpy as np\n",
    "import pandas as pd #this is already imported by data_manager.py\n",
    "\n",
    "#------ your code here ------\n",
    "#extracting the year as a number\n",
    "#df['year_numeric'] = ...\n",
    "#----------------------------\n",
    "\n",
    "#a description of the year, as a number\n",
    "print(df['year_numeric'].describe())\n",
    "\n",
    "#the total number of meteorites\n",
    "print('Total number of entries: ' + str(df.shape[0]))"
   ]
  },
  {
   "cell_type": "markdown",
   "metadata": {},
   "source": [
    "It appears that we have a number of meteorites without an assigned year. We go for the easiest route and just remove them."
   ]
  },
  {
   "cell_type": "code",
   "execution_count": null,
   "metadata": {},
   "outputs": [],
   "source": [
    "#------ your code here ------\n",
    "\n",
    "#----------------------------\n",
    "\n",
    "print('Entries after dropping NAs : ' + str(df.shape[0]))"
   ]
  },
  {
   "cell_type": "markdown",
   "metadata": {},
   "source": [
    "At this point we can start to take a look at the distribution of the data we are going to plot. A simple histogram it's always a good starting point."
   ]
  },
  {
   "cell_type": "code",
   "execution_count": null,
   "metadata": {},
   "outputs": [],
   "source": [
    "#------ your code here ------\n",
    "\n",
    "#----------------------------"
   ]
  },
  {
   "cell_type": "markdown",
   "metadata": {},
   "source": [
    "You should see that the data are highly skewed. In fact the vast majority of meteorites has been observerd during the second half of the twentieth century. Luckily the excercise asks us to plot earlier periods, from 1800 to 1950, otherwise the plot would result *VERY* unbalanced."
   ]
  },
  {
   "cell_type": "markdown",
   "metadata": {},
   "source": [
    "### Preparing the data\n",
    "\n",
    "We need to extract a per-year count of the meteorites. Moreover, we'll need to sort the data in chronological order, otherwise the plot would look terrible (can you tell why?)"
   ]
  },
  {
   "cell_type": "code",
   "execution_count": null,
   "metadata": {},
   "outputs": [],
   "source": [
    "#------ your code here ------\n",
    "#extracting the tally for all possible years\n",
    "#counts = ...\n",
    "\n",
    "#sorting back in chronological order\n",
    "#counts = ...\n",
    "#----------------------------\n",
    "\n",
    "#just checking\n",
    "print(counts)"
   ]
  },
  {
   "cell_type": "markdown",
   "metadata": {},
   "source": [
    "## The joyplot"
   ]
  },
  {
   "cell_type": "markdown",
   "metadata": {},
   "source": [
    "We are following the solution proposed in the [python-graph-gallery tutorial](https://www.python-graph-gallery.com/ridgeline-graph-plotly). The general idea is that for each line we need to add:\n",
    "\n",
    "* add a white trace, which will serve as a baseline for the ridge area\n",
    "* a trace of scatter points, with the colored area\n",
    "* optionally, an annotation that tells which period we are plotting\n",
    "\n",
    "To separate the three lines we need to:\n",
    "\n",
    "* adjust the x values, so that they are all in the 0-50 range\n",
    "* add a growing offset so that the second line will be a bit above the first one, and so on...\n",
    "\n",
    "You are going to use a few plotly functions:\n",
    "\n",
    "* [fig.add_trace()](https://plotly.com/python/creating-and-updating-figures/#adding-traces), a method invoked on the figure instance obtained via `go.Figure()`. This method allows to add a trace, i.e. a line or area into the plot\n",
    "* [go.scatter()](https://plotly.com/python/reference/scatter/#scatter) is the base function to do scatter plots, line plots, and areas\n",
    "\n",
    "Keep in mind that your jupiter lab may not be able to render plotly results on the fly. Two solutions:\n",
    "\n",
    "1. use plotly to create an html, which you then embed as an iframe (this is the more general approach, adopted in the solution)\n",
    "2. you may want to install a [jupyter extension](https://stackoverflow.com/questions/52771328/plotly-chart-not-showing-in-jupyter-notebook), so that you can use `fig.show()`. Some tweaking may be required, but the base command is: `jupyter labextension install jupyterlab-plotly`"
   ]
  },
  {
   "cell_type": "markdown",
   "metadata": {},
   "source": [
    "### Installing plotly\n",
    "Let's check if plotly is there, and let's install it if needed."
   ]
  },
  {
   "cell_type": "code",
   "execution_count": null,
   "metadata": {},
   "outputs": [],
   "source": [
    "#do we need to install plotly?\n",
    "!pip install plotly\n",
    "import plotly.graph_objects as go"
   ]
  },
  {
   "cell_type": "markdown",
   "metadata": {},
   "source": [
    "### Building the plot"
   ]
  },
  {
   "cell_type": "code",
   "execution_count": null,
   "metadata": {},
   "outputs": [],
   "source": [
    "# we need to declare a figure instance\n",
    "fig = go.Figure()\n",
    "\n",
    "\n",
    "#the core solution is to add two traces for each 50-years\n",
    "#period. The first one is a simple white line. The second\n",
    "#one, above it, is a filled colored line. \n",
    "#refer to: https://www.python-graph-gallery.com/ridgeline-graph-plotly\n",
    "#Good luck!\n",
    "\n",
    "#------ your code here ------\n",
    "#----------------------------\n",
    "\n",
    "# we save the output to an html file\n",
    "fig.write_html(\"../results/ridgeline-graph-plotly.html\")"
   ]
  },
  {
   "cell_type": "markdown",
   "metadata": {},
   "source": [
    "We are now ready to see the results, embedding the saved html"
   ]
  },
  {
   "cell_type": "code",
   "execution_count": null,
   "metadata": {},
   "outputs": [],
   "source": [
    "%%html\n",
    "<iframe src=\"../results/ridgeline-graph-plotly.html\" width=\"800\" height=\"600\" title=\"ridgeline chart with plotly\" style=\"border:none\"></iframe>"
   ]
  },
  {
   "cell_type": "code",
   "execution_count": null,
   "metadata": {},
   "outputs": [],
   "source": []
  }
 ],
 "metadata": {
  "kernelspec": {
   "display_name": "Python 3",
   "language": "python",
   "name": "python3"
  },
  "language_info": {
   "codemirror_mode": {
    "name": "ipython",
    "version": 3
   },
   "file_extension": ".py",
   "mimetype": "text/x-python",
   "name": "python",
   "nbconvert_exporter": "python",
   "pygments_lexer": "ipython3",
   "version": "3.8.10"
  }
 },
 "nbformat": 4,
 "nbformat_minor": 4
}
